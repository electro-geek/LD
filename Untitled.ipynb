{
 "cells": [
  {
   "cell_type": "code",
   "execution_count": 2,
   "id": "55af22ef",
   "metadata": {},
   "outputs": [],
   "source": [
    "import pandas as pd\n",
    "import matplotlib.pyplot as plt\n",
    "import numpy as np\n",
    "import seaborn as sns\n",
    "%matplotlib inline\n",
    "import os"
   ]
  },
  {
   "cell_type": "code",
   "execution_count": 47,
   "id": "616a43c5",
   "metadata": {},
   "outputs": [],
   "source": [
    "dataset = pd.read_csv('lottery_data.csv')"
   ]
  },
  {
   "cell_type": "code",
   "execution_count": 48,
   "id": "b20b804b",
   "metadata": {},
   "outputs": [
    {
     "data": {
      "text/html": [
       "<div>\n",
       "<style scoped>\n",
       "    .dataframe tbody tr th:only-of-type {\n",
       "        vertical-align: middle;\n",
       "    }\n",
       "\n",
       "    .dataframe tbody tr th {\n",
       "        vertical-align: top;\n",
       "    }\n",
       "\n",
       "    .dataframe thead th {\n",
       "        text-align: right;\n",
       "    }\n",
       "</style>\n",
       "<table border=\"1\" class=\"dataframe\">\n",
       "  <thead>\n",
       "    <tr style=\"text-align: right;\">\n",
       "      <th></th>\n",
       "      <th>date</th>\n",
       "      <th>weekday</th>\n",
       "      <th>winning_numbers</th>\n",
       "      <th>powerball</th>\n",
       "      <th>powerplay</th>\n",
       "      <th>jackpot</th>\n",
       "    </tr>\n",
       "  </thead>\n",
       "  <tbody>\n",
       "    <tr>\n",
       "      <th>0</th>\n",
       "      <td>2014-05-07</td>\n",
       "      <td>Wed</td>\n",
       "      <td>17-29-31-48-49</td>\n",
       "      <td>34</td>\n",
       "      <td>2</td>\n",
       "      <td>70000000</td>\n",
       "    </tr>\n",
       "    <tr>\n",
       "      <th>1</th>\n",
       "      <td>2014-05-10</td>\n",
       "      <td>Sat</td>\n",
       "      <td>4-31-41-47-55</td>\n",
       "      <td>1</td>\n",
       "      <td>2</td>\n",
       "      <td>90000000</td>\n",
       "    </tr>\n",
       "    <tr>\n",
       "      <th>2</th>\n",
       "      <td>2014-05-14</td>\n",
       "      <td>Wed</td>\n",
       "      <td>7-33-39-52-55</td>\n",
       "      <td>33</td>\n",
       "      <td>3</td>\n",
       "      <td>90000000</td>\n",
       "    </tr>\n",
       "    <tr>\n",
       "      <th>3</th>\n",
       "      <td>2014-05-17</td>\n",
       "      <td>Sat</td>\n",
       "      <td>23-32-39-47-49</td>\n",
       "      <td>22</td>\n",
       "      <td>3</td>\n",
       "      <td>114000000</td>\n",
       "    </tr>\n",
       "    <tr>\n",
       "      <th>4</th>\n",
       "      <td>2014-05-21</td>\n",
       "      <td>Wed</td>\n",
       "      <td>4-20-34-39-58</td>\n",
       "      <td>31</td>\n",
       "      <td>5</td>\n",
       "      <td>114000000</td>\n",
       "    </tr>\n",
       "  </tbody>\n",
       "</table>\n",
       "</div>"
      ],
      "text/plain": [
       "         date weekday winning_numbers  powerball  powerplay    jackpot\n",
       "0  2014-05-07     Wed  17-29-31-48-49         34          2   70000000\n",
       "1  2014-05-10     Sat   4-31-41-47-55          1          2   90000000\n",
       "2  2014-05-14     Wed   7-33-39-52-55         33          3   90000000\n",
       "3  2014-05-17     Sat  23-32-39-47-49         22          3  114000000\n",
       "4  2014-05-21     Wed   4-20-34-39-58         31          5  114000000"
      ]
     },
     "execution_count": 48,
     "metadata": {},
     "output_type": "execute_result"
    }
   ],
   "source": [
    "dataset.head()"
   ]
  },
  {
   "cell_type": "code",
   "execution_count": 49,
   "id": "f7cbb486",
   "metadata": {},
   "outputs": [],
   "source": [
    "for i in dataset['date']:\n",
    "    y = i.split(\"-\")\n",
    "    temp = int(y[0]+y[1]+y[2])\n",
    "    dataset = dataset.replace(i,temp)"
   ]
  },
  {
   "cell_type": "code",
   "execution_count": 50,
   "id": "f6cf99d5",
   "metadata": {},
   "outputs": [],
   "source": [
    "dataset = pd.get_dummies(dataset, columns = ['weekday'], drop_first = True)"
   ]
  },
  {
   "cell_type": "code",
   "execution_count": 51,
   "id": "27e3a0e5",
   "metadata": {},
   "outputs": [
    {
     "data": {
      "text/html": [
       "<div>\n",
       "<style scoped>\n",
       "    .dataframe tbody tr th:only-of-type {\n",
       "        vertical-align: middle;\n",
       "    }\n",
       "\n",
       "    .dataframe tbody tr th {\n",
       "        vertical-align: top;\n",
       "    }\n",
       "\n",
       "    .dataframe thead th {\n",
       "        text-align: right;\n",
       "    }\n",
       "</style>\n",
       "<table border=\"1\" class=\"dataframe\">\n",
       "  <thead>\n",
       "    <tr style=\"text-align: right;\">\n",
       "      <th></th>\n",
       "      <th>date</th>\n",
       "      <th>winning_numbers</th>\n",
       "      <th>powerball</th>\n",
       "      <th>powerplay</th>\n",
       "      <th>jackpot</th>\n",
       "      <th>weekday_Sat</th>\n",
       "      <th>weekday_Wed</th>\n",
       "    </tr>\n",
       "  </thead>\n",
       "  <tbody>\n",
       "    <tr>\n",
       "      <th>0</th>\n",
       "      <td>20140507</td>\n",
       "      <td>17-29-31-48-49</td>\n",
       "      <td>34</td>\n",
       "      <td>2</td>\n",
       "      <td>70000000</td>\n",
       "      <td>0</td>\n",
       "      <td>1</td>\n",
       "    </tr>\n",
       "    <tr>\n",
       "      <th>1</th>\n",
       "      <td>20140510</td>\n",
       "      <td>4-31-41-47-55</td>\n",
       "      <td>1</td>\n",
       "      <td>2</td>\n",
       "      <td>90000000</td>\n",
       "      <td>1</td>\n",
       "      <td>0</td>\n",
       "    </tr>\n",
       "    <tr>\n",
       "      <th>2</th>\n",
       "      <td>20140514</td>\n",
       "      <td>7-33-39-52-55</td>\n",
       "      <td>33</td>\n",
       "      <td>3</td>\n",
       "      <td>90000000</td>\n",
       "      <td>0</td>\n",
       "      <td>1</td>\n",
       "    </tr>\n",
       "    <tr>\n",
       "      <th>3</th>\n",
       "      <td>20140517</td>\n",
       "      <td>23-32-39-47-49</td>\n",
       "      <td>22</td>\n",
       "      <td>3</td>\n",
       "      <td>114000000</td>\n",
       "      <td>1</td>\n",
       "      <td>0</td>\n",
       "    </tr>\n",
       "    <tr>\n",
       "      <th>4</th>\n",
       "      <td>20140521</td>\n",
       "      <td>4-20-34-39-58</td>\n",
       "      <td>31</td>\n",
       "      <td>5</td>\n",
       "      <td>114000000</td>\n",
       "      <td>0</td>\n",
       "      <td>1</td>\n",
       "    </tr>\n",
       "  </tbody>\n",
       "</table>\n",
       "</div>"
      ],
      "text/plain": [
       "       date winning_numbers  powerball  powerplay    jackpot  weekday_Sat  \\\n",
       "0  20140507  17-29-31-48-49         34          2   70000000            0   \n",
       "1  20140510   4-31-41-47-55          1          2   90000000            1   \n",
       "2  20140514   7-33-39-52-55         33          3   90000000            0   \n",
       "3  20140517  23-32-39-47-49         22          3  114000000            1   \n",
       "4  20140521   4-20-34-39-58         31          5  114000000            0   \n",
       "\n",
       "   weekday_Wed  \n",
       "0            1  \n",
       "1            0  \n",
       "2            1  \n",
       "3            0  \n",
       "4            1  "
      ]
     },
     "execution_count": 51,
     "metadata": {},
     "output_type": "execute_result"
    }
   ],
   "source": [
    "dataset.head()"
   ]
  },
  {
   "cell_type": "code",
   "execution_count": 52,
   "id": "237eae5c",
   "metadata": {},
   "outputs": [],
   "source": [
    "for i in dataset['winning_numbers']:\n",
    "    y = i.split(\"-\")\n",
    "    temp = str()\n",
    "    for j in y:\n",
    "        temp += j\n",
    "    dataset = dataset.replace(i,temp)"
   ]
  },
  {
   "cell_type": "code",
   "execution_count": 53,
   "id": "6b24ccd0",
   "metadata": {},
   "outputs": [
    {
     "data": {
      "text/html": [
       "<div>\n",
       "<style scoped>\n",
       "    .dataframe tbody tr th:only-of-type {\n",
       "        vertical-align: middle;\n",
       "    }\n",
       "\n",
       "    .dataframe tbody tr th {\n",
       "        vertical-align: top;\n",
       "    }\n",
       "\n",
       "    .dataframe thead th {\n",
       "        text-align: right;\n",
       "    }\n",
       "</style>\n",
       "<table border=\"1\" class=\"dataframe\">\n",
       "  <thead>\n",
       "    <tr style=\"text-align: right;\">\n",
       "      <th></th>\n",
       "      <th>date</th>\n",
       "      <th>winning_numbers</th>\n",
       "      <th>powerball</th>\n",
       "      <th>powerplay</th>\n",
       "      <th>jackpot</th>\n",
       "      <th>weekday_Sat</th>\n",
       "      <th>weekday_Wed</th>\n",
       "    </tr>\n",
       "  </thead>\n",
       "  <tbody>\n",
       "    <tr>\n",
       "      <th>0</th>\n",
       "      <td>20140507</td>\n",
       "      <td>1729314849</td>\n",
       "      <td>34</td>\n",
       "      <td>2</td>\n",
       "      <td>70000000</td>\n",
       "      <td>0</td>\n",
       "      <td>1</td>\n",
       "    </tr>\n",
       "    <tr>\n",
       "      <th>1</th>\n",
       "      <td>20140510</td>\n",
       "      <td>431414755</td>\n",
       "      <td>1</td>\n",
       "      <td>2</td>\n",
       "      <td>90000000</td>\n",
       "      <td>1</td>\n",
       "      <td>0</td>\n",
       "    </tr>\n",
       "    <tr>\n",
       "      <th>2</th>\n",
       "      <td>20140514</td>\n",
       "      <td>733395255</td>\n",
       "      <td>33</td>\n",
       "      <td>3</td>\n",
       "      <td>90000000</td>\n",
       "      <td>0</td>\n",
       "      <td>1</td>\n",
       "    </tr>\n",
       "    <tr>\n",
       "      <th>3</th>\n",
       "      <td>20140517</td>\n",
       "      <td>2332394749</td>\n",
       "      <td>22</td>\n",
       "      <td>3</td>\n",
       "      <td>114000000</td>\n",
       "      <td>1</td>\n",
       "      <td>0</td>\n",
       "    </tr>\n",
       "    <tr>\n",
       "      <th>4</th>\n",
       "      <td>20140521</td>\n",
       "      <td>420343958</td>\n",
       "      <td>31</td>\n",
       "      <td>5</td>\n",
       "      <td>114000000</td>\n",
       "      <td>0</td>\n",
       "      <td>1</td>\n",
       "    </tr>\n",
       "  </tbody>\n",
       "</table>\n",
       "</div>"
      ],
      "text/plain": [
       "       date winning_numbers  powerball  powerplay    jackpot  weekday_Sat  \\\n",
       "0  20140507      1729314849         34          2   70000000            0   \n",
       "1  20140510       431414755          1          2   90000000            1   \n",
       "2  20140514       733395255         33          3   90000000            0   \n",
       "3  20140517      2332394749         22          3  114000000            1   \n",
       "4  20140521       420343958         31          5  114000000            0   \n",
       "\n",
       "   weekday_Wed  \n",
       "0            1  \n",
       "1            0  \n",
       "2            1  \n",
       "3            0  \n",
       "4            1  "
      ]
     },
     "execution_count": 53,
     "metadata": {},
     "output_type": "execute_result"
    }
   ],
   "source": [
    "dataset.head()"
   ]
  },
  {
   "cell_type": "code",
   "execution_count": 55,
   "id": "e45e292b",
   "metadata": {},
   "outputs": [
    {
     "data": {
      "text/plain": [
       "date               0\n",
       "winning_numbers    0\n",
       "powerball          0\n",
       "powerplay          0\n",
       "jackpot            0\n",
       "weekday_Sat        0\n",
       "weekday_Wed        0\n",
       "dtype: int64"
      ]
     },
     "execution_count": 55,
     "metadata": {},
     "output_type": "execute_result"
    }
   ],
   "source": [
    "dataset.isnull().sum()"
   ]
  },
  {
   "cell_type": "code",
   "execution_count": 56,
   "id": "ea971199",
   "metadata": {},
   "outputs": [],
   "source": [
    "dataset['target'] = dataset['jackpot']"
   ]
  },
  {
   "cell_type": "code",
   "execution_count": 58,
   "id": "4dfa7f08",
   "metadata": {},
   "outputs": [],
   "source": [
    "dataset = dataset.drop(['jackpot'],axis = 1)"
   ]
  },
  {
   "cell_type": "code",
   "execution_count": 59,
   "id": "a9734e68",
   "metadata": {},
   "outputs": [
    {
     "data": {
      "text/html": [
       "<div>\n",
       "<style scoped>\n",
       "    .dataframe tbody tr th:only-of-type {\n",
       "        vertical-align: middle;\n",
       "    }\n",
       "\n",
       "    .dataframe tbody tr th {\n",
       "        vertical-align: top;\n",
       "    }\n",
       "\n",
       "    .dataframe thead th {\n",
       "        text-align: right;\n",
       "    }\n",
       "</style>\n",
       "<table border=\"1\" class=\"dataframe\">\n",
       "  <thead>\n",
       "    <tr style=\"text-align: right;\">\n",
       "      <th></th>\n",
       "      <th>date</th>\n",
       "      <th>winning_numbers</th>\n",
       "      <th>powerball</th>\n",
       "      <th>powerplay</th>\n",
       "      <th>weekday_Sat</th>\n",
       "      <th>weekday_Wed</th>\n",
       "      <th>target</th>\n",
       "    </tr>\n",
       "  </thead>\n",
       "  <tbody>\n",
       "    <tr>\n",
       "      <th>0</th>\n",
       "      <td>20140507</td>\n",
       "      <td>1729314849</td>\n",
       "      <td>34</td>\n",
       "      <td>2</td>\n",
       "      <td>0</td>\n",
       "      <td>1</td>\n",
       "      <td>70000000</td>\n",
       "    </tr>\n",
       "    <tr>\n",
       "      <th>1</th>\n",
       "      <td>20140510</td>\n",
       "      <td>431414755</td>\n",
       "      <td>1</td>\n",
       "      <td>2</td>\n",
       "      <td>1</td>\n",
       "      <td>0</td>\n",
       "      <td>90000000</td>\n",
       "    </tr>\n",
       "    <tr>\n",
       "      <th>2</th>\n",
       "      <td>20140514</td>\n",
       "      <td>733395255</td>\n",
       "      <td>33</td>\n",
       "      <td>3</td>\n",
       "      <td>0</td>\n",
       "      <td>1</td>\n",
       "      <td>90000000</td>\n",
       "    </tr>\n",
       "    <tr>\n",
       "      <th>3</th>\n",
       "      <td>20140517</td>\n",
       "      <td>2332394749</td>\n",
       "      <td>22</td>\n",
       "      <td>3</td>\n",
       "      <td>1</td>\n",
       "      <td>0</td>\n",
       "      <td>114000000</td>\n",
       "    </tr>\n",
       "    <tr>\n",
       "      <th>4</th>\n",
       "      <td>20140521</td>\n",
       "      <td>420343958</td>\n",
       "      <td>31</td>\n",
       "      <td>5</td>\n",
       "      <td>0</td>\n",
       "      <td>1</td>\n",
       "      <td>114000000</td>\n",
       "    </tr>\n",
       "  </tbody>\n",
       "</table>\n",
       "</div>"
      ],
      "text/plain": [
       "       date winning_numbers  powerball  powerplay  weekday_Sat  weekday_Wed  \\\n",
       "0  20140507      1729314849         34          2            0            1   \n",
       "1  20140510       431414755          1          2            1            0   \n",
       "2  20140514       733395255         33          3            0            1   \n",
       "3  20140517      2332394749         22          3            1            0   \n",
       "4  20140521       420343958         31          5            0            1   \n",
       "\n",
       "      target  \n",
       "0   70000000  \n",
       "1   90000000  \n",
       "2   90000000  \n",
       "3  114000000  \n",
       "4  114000000  "
      ]
     },
     "execution_count": 59,
     "metadata": {},
     "output_type": "execute_result"
    }
   ],
   "source": [
    "dataset.head()"
   ]
  },
  {
   "cell_type": "code",
   "execution_count": 60,
   "id": "fda19b7e",
   "metadata": {},
   "outputs": [],
   "source": [
    "#independent and dependent variables\n",
    "X = dataset.iloc[:,:-1]\n",
    "y = dataset['target']"
   ]
  },
  {
   "cell_type": "code",
   "execution_count": 61,
   "id": "024350fa",
   "metadata": {},
   "outputs": [
    {
     "data": {
      "text/html": [
       "<div>\n",
       "<style scoped>\n",
       "    .dataframe tbody tr th:only-of-type {\n",
       "        vertical-align: middle;\n",
       "    }\n",
       "\n",
       "    .dataframe tbody tr th {\n",
       "        vertical-align: top;\n",
       "    }\n",
       "\n",
       "    .dataframe thead th {\n",
       "        text-align: right;\n",
       "    }\n",
       "</style>\n",
       "<table border=\"1\" class=\"dataframe\">\n",
       "  <thead>\n",
       "    <tr style=\"text-align: right;\">\n",
       "      <th></th>\n",
       "      <th>date</th>\n",
       "      <th>winning_numbers</th>\n",
       "      <th>powerball</th>\n",
       "      <th>powerplay</th>\n",
       "      <th>weekday_Sat</th>\n",
       "      <th>weekday_Wed</th>\n",
       "    </tr>\n",
       "  </thead>\n",
       "  <tbody>\n",
       "    <tr>\n",
       "      <th>0</th>\n",
       "      <td>20140507</td>\n",
       "      <td>1729314849</td>\n",
       "      <td>34</td>\n",
       "      <td>2</td>\n",
       "      <td>0</td>\n",
       "      <td>1</td>\n",
       "    </tr>\n",
       "    <tr>\n",
       "      <th>1</th>\n",
       "      <td>20140510</td>\n",
       "      <td>431414755</td>\n",
       "      <td>1</td>\n",
       "      <td>2</td>\n",
       "      <td>1</td>\n",
       "      <td>0</td>\n",
       "    </tr>\n",
       "    <tr>\n",
       "      <th>2</th>\n",
       "      <td>20140514</td>\n",
       "      <td>733395255</td>\n",
       "      <td>33</td>\n",
       "      <td>3</td>\n",
       "      <td>0</td>\n",
       "      <td>1</td>\n",
       "    </tr>\n",
       "    <tr>\n",
       "      <th>3</th>\n",
       "      <td>20140517</td>\n",
       "      <td>2332394749</td>\n",
       "      <td>22</td>\n",
       "      <td>3</td>\n",
       "      <td>1</td>\n",
       "      <td>0</td>\n",
       "    </tr>\n",
       "    <tr>\n",
       "      <th>4</th>\n",
       "      <td>20140521</td>\n",
       "      <td>420343958</td>\n",
       "      <td>31</td>\n",
       "      <td>5</td>\n",
       "      <td>0</td>\n",
       "      <td>1</td>\n",
       "    </tr>\n",
       "  </tbody>\n",
       "</table>\n",
       "</div>"
      ],
      "text/plain": [
       "       date winning_numbers  powerball  powerplay  weekday_Sat  weekday_Wed\n",
       "0  20140507      1729314849         34          2            0            1\n",
       "1  20140510       431414755          1          2            1            0\n",
       "2  20140514       733395255         33          3            0            1\n",
       "3  20140517      2332394749         22          3            1            0\n",
       "4  20140521       420343958         31          5            0            1"
      ]
     },
     "execution_count": 61,
     "metadata": {},
     "output_type": "execute_result"
    }
   ],
   "source": [
    "X.head()"
   ]
  },
  {
   "cell_type": "code",
   "execution_count": 62,
   "id": "02ecf035",
   "metadata": {},
   "outputs": [
    {
     "data": {
      "text/plain": [
       "0     70000000\n",
       "1     90000000\n",
       "2     90000000\n",
       "3    114000000\n",
       "4    114000000\n",
       "Name: target, dtype: int64"
      ]
     },
     "execution_count": 62,
     "metadata": {},
     "output_type": "execute_result"
    }
   ],
   "source": [
    "y.head()"
   ]
  },
  {
   "cell_type": "code",
   "execution_count": 63,
   "id": "e118c1b0",
   "metadata": {},
   "outputs": [],
   "source": [
    "from sklearn.preprocessing import StandardScaler\n",
    "scaler = StandardScaler()"
   ]
  },
  {
   "cell_type": "code",
   "execution_count": 64,
   "id": "77285b15",
   "metadata": {},
   "outputs": [],
   "source": [
    "#train test split\n",
    "from sklearn.model_selection import train_test_split\n",
    "X_train, X_test, y_train, y_test = train_test_split(X, y, test_size = 0.3, random_state = 42)"
   ]
  },
  {
   "cell_type": "code",
   "execution_count": 66,
   "id": "e5ff2803",
   "metadata": {},
   "outputs": [
    {
     "name": "stderr",
     "output_type": "stream",
     "text": [
      "C:\\Users\\Mritunjay Sharma\\AppData\\Local\\Packages\\PythonSoftwareFoundation.Python.3.9_qbz5n2kfra8p0\\LocalCache\\local-packages\\Python39\\site-packages\\sklearn\\base.py:438: UserWarning: X has feature names, but StandardScaler was fitted without feature names\n",
      "  warnings.warn(\n"
     ]
    }
   ],
   "source": [
    "X_train = scaler.fit_transform(X_train)\n",
    "X_test = scaler.transform(X_test)"
   ]
  },
  {
   "cell_type": "code",
   "execution_count": 69,
   "id": "a3c2e73d",
   "metadata": {},
   "outputs": [],
   "source": [
    "import pickle\n",
    "pickle.dump(scaler,open('scaling.pkl','wb'))"
   ]
  },
  {
   "cell_type": "code",
   "execution_count": 71,
   "id": "71fc73f5",
   "metadata": {},
   "outputs": [],
   "source": [
    "#model\n",
    "from sklearn.linear_model import LinearRegression\n",
    "lin_reg = LinearRegression()"
   ]
  },
  {
   "cell_type": "code",
   "execution_count": 72,
   "id": "d2369872",
   "metadata": {},
   "outputs": [],
   "source": [
    "params = {\n",
    "    'alpha' : [1e-10,1e-5,1e-2,0.01, 0.1, 1, 10, 100, 1000]\n",
    "}"
   ]
  },
  {
   "cell_type": "code",
   "execution_count": 73,
   "id": "07801cec",
   "metadata": {},
   "outputs": [
    {
     "data": {
      "text/plain": [
       "LinearRegression()"
      ]
     },
     "execution_count": 73,
     "metadata": {},
     "output_type": "execute_result"
    }
   ],
   "source": [
    "lin_reg.fit(X_train,y_train)"
   ]
  },
  {
   "cell_type": "code",
   "execution_count": 74,
   "id": "d8ef64bf",
   "metadata": {},
   "outputs": [],
   "source": [
    "y_pred = lin_reg.predict(X_test)"
   ]
  },
  {
   "cell_type": "code",
   "execution_count": 75,
   "id": "ae85b03c",
   "metadata": {},
   "outputs": [],
   "source": [
    "from sklearn.metrics import accuracy_score, r2_score"
   ]
  },
  {
   "cell_type": "code",
   "execution_count": 76,
   "id": "b607075a",
   "metadata": {},
   "outputs": [
    {
     "name": "stdout",
     "output_type": "stream",
     "text": [
      "-1.3859009857867473\n"
     ]
    }
   ],
   "source": [
    "print(r2_score(y_testy_pred,))"
   ]
  },
  {
   "cell_type": "code",
   "execution_count": null,
   "id": "5f9fc62d",
   "metadata": {},
   "outputs": [],
   "source": []
  },
  {
   "cell_type": "code",
   "execution_count": null,
   "id": "3a56bf8f",
   "metadata": {},
   "outputs": [],
   "source": []
  },
  {
   "cell_type": "code",
   "execution_count": null,
   "id": "3b724e40",
   "metadata": {},
   "outputs": [],
   "source": []
  },
  {
   "cell_type": "code",
   "execution_count": null,
   "id": "5822b087",
   "metadata": {},
   "outputs": [],
   "source": []
  },
  {
   "cell_type": "code",
   "execution_count": null,
   "id": "86cb645b",
   "metadata": {},
   "outputs": [],
   "source": []
  }
 ],
 "metadata": {
  "kernelspec": {
   "display_name": "Python 3 (ipykernel)",
   "language": "python",
   "name": "python3"
  },
  "language_info": {
   "codemirror_mode": {
    "name": "ipython",
    "version": 3
   },
   "file_extension": ".py",
   "mimetype": "text/x-python",
   "name": "python",
   "nbconvert_exporter": "python",
   "pygments_lexer": "ipython3",
   "version": "3.9.13"
  }
 },
 "nbformat": 4,
 "nbformat_minor": 5
}
